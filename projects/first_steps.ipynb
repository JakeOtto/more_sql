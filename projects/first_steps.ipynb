{
 "cells": [
  {
   "attachments": {},
   "cell_type": "markdown",
   "metadata": {},
   "source": [
    "# Installing and Running Voila"
   ]
  },
  {
   "attachments": {},
   "cell_type": "markdown",
   "metadata": {},
   "source": [
    "To install Voila for dashboarding with Jupyter notebooks and set up an example notebook, follow these instructions:\n",
    "\n",
    "1. Install Voila:\n",
    "\n",
    "    - Open a terminal or command prompt.\n",
    "    - Ensure you have an active Python environment (e.g., virtual environment).\n",
    "    - Run the following command to install Voila using pip:\n",
    "    - `pip install voila pandas jupyter` etc"
   ]
  },
  {
   "attachments": {},
   "cell_type": "markdown",
   "metadata": {},
   "source": [
    "2. Launch Voila:\n",
    "\n",
    "    - Open a terminal or command prompt.\n",
    "    - Navigate to the directory containing your Jupyter notebook.\n",
    "    - Run the following command to launch Voila and serve your notebook as a dashboard:\n",
    "    ` voila <notebook_name>.ipynb`\n",
    "    -  Replace <notebook_name>.ipynb with the actual name of your Jupyter notebook file."
   ]
  },
  {
   "attachments": {},
   "cell_type": "markdown",
   "metadata": {},
   "source": [
    "3. Access the dashboard:\n",
    "\n",
    "    - Once Voila is running, it will display a local web server address (e.g., http://localhost:8866/).\n",
    "    - Open a web browser and enter the provided address to access your Voila dashboard.\n",
    "    - You can share this URL with others to allow them to view the dashboard."
   ]
  },
  {
   "attachments": {},
   "cell_type": "markdown",
   "metadata": {},
   "source": [
    "# Getting Started"
   ]
  },
  {
   "cell_type": "code",
   "execution_count": null,
   "metadata": {},
   "outputs": [],
   "source": [
    "# Import libraries\n",
    "from dotenv import load_dotenv\n",
    "import os\n",
    "import psycopg2\n",
    "import pandas as pd\n",
    "import matplotlib.pyplot as plt\n",
    "import seaborn as sns\n",
    "import ipywidgets as widgets\n",
    "from IPython.display import display"
   ]
  },
  {
   "cell_type": "code",
   "execution_count": null,
   "metadata": {},
   "outputs": [],
   "source": [
    "\n",
    "# Load environment variables\n",
    "load_dotenv()\n",
    "db_user = os.getenv('DB_USER')\n",
    "db_password = os.getenv('DB_PASSWORD')\n",
    "db_host = os.getenv('DB_HOST')\n",
    "db_name = os.getenv('DB_NAME')"
   ]
  },
  {
   "cell_type": "code",
   "execution_count": null,
   "metadata": {},
   "outputs": [],
   "source": [
    "# Connect to the Stack Overflow database\n",
    "conn = psycopg2.connect(\n",
    "    host=db_host,\n",
    "    database=db_name,\n",
    "    user=db_user,\n",
    "    password=db_password\n",
    ")"
   ]
  },
  {
   "cell_type": "code",
   "execution_count": null,
   "metadata": {},
   "outputs": [],
   "source": [
    "\n",
    "\n",
    "# Define HEART metrics for Stack Overflow\n",
    "heart_metrics = {\n",
    "    'Happiness': 'Measure of user satisfaction and happiness with the Questions & Answers product.',\n",
    "    'Engagement': 'Measure of user interaction and activity on the platform.',\n",
    "    'Adoption': 'Measure of user acquisition and growth of Stack Overflow user base.',\n",
    "    'Retention': 'Measure of user retention and continued usage of the platform over time.',\n",
    "    'Task Success': 'Measure of user ability to accomplish their goals and tasks effectively on Stack Overflow.'\n",
    "}\n"
   ]
  },
  {
   "attachments": {},
   "cell_type": "markdown",
   "metadata": {},
   "source": [
    "# Build SQL queries\n",
    "### TODO: Write SQL queries to calculate the metrics"
   ]
  },
  {
   "attachments": {},
   "cell_type": "markdown",
   "metadata": {},
   "source": [
    "# Execute SQL queries and retrieve data\n",
    "### TODO: Execute the queries using the database connection and retrieve the results into pandas DataFrames\n"
   ]
  },
  {
   "attachments": {},
   "cell_type": "markdown",
   "metadata": {},
   "source": [
    "# Visualize the results\n",
    "### TODO: Use data visualization libraries (e.g., matplotlib, seaborn, plotly) to create visualizations"
   ]
  },
  {
   "cell_type": "code",
   "execution_count": null,
   "metadata": {},
   "outputs": [],
   "source": [
    "# Create interactive widgets\n",
    "dropdown = widgets.Dropdown(\n",
    "    options=list(heart_metrics.keys()),\n",
    "    description='Select Metric:',\n",
    "    disabled=False,\n",
    ")\n",
    "\n",
    "def plot_metric(metric):\n",
    "    # TODO: Write code to plot the selected metric\n",
    "    pass\n",
    "\n",
    "def on_dropdown_change(change):\n",
    "    if change['type'] == 'change' and change['name'] == 'value':\n",
    "        plot_metric(change['new'])\n",
    "\n",
    "dropdown.observe(on_dropdown_change)\n",
    "\n",
    "# Display the widget and initial plot\n",
    "display(dropdown)\n",
    "plot_metric(dropdown.value)"
   ]
  },
  {
   "attachments": {},
   "cell_type": "markdown",
   "metadata": {},
   "source": [
    "\n",
    "# Validate and refine\n",
    "### TODO: Assess the metrics and visualizations, refine as needed"
   ]
  },
  {
   "attachments": {},
   "cell_type": "markdown",
   "metadata": {},
   "source": [
    "# Create Voila dashboard\n",
    "### TODO: Convert the Jupyter Notebook into an interactive Voila dashboard"
   ]
  },
  {
   "attachments": {},
   "cell_type": "markdown",
   "metadata": {},
   "source": [
    "# Prepare conclusions\n",
    "### TODO: Structure the notebook to include SQL code, visualizations, explanations, and data collection proposal\n"
   ]
  },
  {
   "cell_type": "code",
   "execution_count": null,
   "metadata": {},
   "outputs": [],
   "source": [
    "# Display HEART metrics information\n",
    "print('HEART Metrics for Stack Overflow:\\n')\n",
    "for metric, description in heart_metrics.items():\n",
    "    print(f'{metric}: {description}')"
   ]
  },
  {
   "cell_type": "code",
   "execution_count": null,
   "metadata": {},
   "outputs": [],
   "source": [
    "# Close the database connection\n",
    "conn.close()"
   ]
  }
 ],
 "metadata": {
  "kernelspec": {
   "display_name": "voila_venv",
   "language": "python",
   "name": "python3"
  },
  "language_info": {
   "name": "python",
   "version": "3.11.3"
  },
  "orig_nbformat": 4
 },
 "nbformat": 4,
 "nbformat_minor": 2
}
