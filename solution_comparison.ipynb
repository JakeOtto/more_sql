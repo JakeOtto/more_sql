{
 "cells": [
  {
   "cell_type": "code",
   "execution_count": 15,
   "metadata": {},
   "outputs": [
    {
     "name": "stdout",
     "output_type": "stream",
     "text": [
      "The sql extension is already loaded. To reload it, use:\n",
      "  %reload_ext sql\n"
     ]
    }
   ],
   "source": [
    "%load_ext sql\n",
    "%sql postgresql+psycopg2://localhost:5432/intro_to_sql_for_analytics\n",
    "import timeit\n",
    "from sqlalchemy import create_engine\n",
    "import pandas as pd"
   ]
  },
  {
   "cell_type": "markdown",
   "metadata": {},
   "source": [
    "## Use a SELF JOIN to find athletes that share a birthday."
   ]
  },
  {
   "cell_type": "code",
   "execution_count": 16,
   "metadata": {},
   "outputs": [
    {
     "name": "stdout",
     "output_type": "stream",
     "text": [
      " * postgresql+psycopg2://localhost:5432/intro_to_sql_for_analytics\n",
      "10 rows affected.\n"
     ]
    },
    {
     "data": {
      "text/html": [
       "<table>\n",
       "    <thead>\n",
       "        <tr>\n",
       "            <th>date_of_birth</th>\n",
       "            <th>athlete_count</th>\n",
       "            <th>name</th>\n",
       "        </tr>\n",
       "    </thead>\n",
       "    <tbody>\n",
       "        <tr>\n",
       "            <td>1964-07-05</td>\n",
       "            <td>2</td>\n",
       "            <td>CHEBANIKA Raisa</td>\n",
       "        </tr>\n",
       "        <tr>\n",
       "            <td>1964-07-05</td>\n",
       "            <td>2</td>\n",
       "            <td>SIM Jae Yong</td>\n",
       "        </tr>\n",
       "        <tr>\n",
       "            <td>1967-10-12</td>\n",
       "            <td>2</td>\n",
       "            <td>PILLE-STEPPAT Sylvia</td>\n",
       "        </tr>\n",
       "        <tr>\n",
       "            <td>1967-10-12</td>\n",
       "            <td>2</td>\n",
       "            <td>SCHNARNDORF Susana</td>\n",
       "        </tr>\n",
       "        <tr>\n",
       "            <td>1970-03-24</td>\n",
       "            <td>2</td>\n",
       "            <td>FENDT Bernhard</td>\n",
       "        </tr>\n",
       "        <tr>\n",
       "            <td>1970-03-24</td>\n",
       "            <td>2</td>\n",
       "            <td>POMME Mauricio</td>\n",
       "        </tr>\n",
       "        <tr>\n",
       "            <td>1970-04-21</td>\n",
       "            <td>2</td>\n",
       "            <td>BACHMAIER Ernst</td>\n",
       "        </tr>\n",
       "        <tr>\n",
       "            <td>1970-04-21</td>\n",
       "            <td>2</td>\n",
       "            <td>CHIPPINGTON Jeanette</td>\n",
       "        </tr>\n",
       "        <tr>\n",
       "            <td>1972-06-08</td>\n",
       "            <td>2</td>\n",
       "            <td>ANDALOUSSI Ahmed</td>\n",
       "        </tr>\n",
       "        <tr>\n",
       "            <td>1972-06-08</td>\n",
       "            <td>2</td>\n",
       "            <td>RODRIGUEZ Matthew</td>\n",
       "        </tr>\n",
       "    </tbody>\n",
       "</table>"
      ],
      "text/plain": [
       "[(datetime.date(1964, 7, 5), 2, 'CHEBANIKA Raisa'),\n",
       " (datetime.date(1964, 7, 5), 2, 'SIM Jae Yong'),\n",
       " (datetime.date(1967, 10, 12), 2, 'PILLE-STEPPAT Sylvia'),\n",
       " (datetime.date(1967, 10, 12), 2, 'SCHNARNDORF Susana'),\n",
       " (datetime.date(1970, 3, 24), 2, 'FENDT Bernhard'),\n",
       " (datetime.date(1970, 3, 24), 2, 'POMME Mauricio'),\n",
       " (datetime.date(1970, 4, 21), 2, 'BACHMAIER Ernst'),\n",
       " (datetime.date(1970, 4, 21), 2, 'CHIPPINGTON Jeanette'),\n",
       " (datetime.date(1972, 6, 8), 2, 'ANDALOUSSI Ahmed'),\n",
       " (datetime.date(1972, 6, 8), 2, 'RODRIGUEZ Matthew')]"
      ]
     },
     "execution_count": 16,
     "metadata": {},
     "output_type": "execute_result"
    }
   ],
   "source": [
    "%%sql\n",
    "SELECT date_of_birth, athlete_count, name\n",
    "FROM (\n",
    "    SELECT\n",
    "        date_of_birth,\n",
    "        COUNT(*) OVER (PARTITION BY date_of_birth) AS athlete_count,\n",
    "        name\n",
    "    FROM athletes\n",
    "    GROUP BY date_of_birth, name\n",
    "    ) AS subquery\n",
    "WHERE athlete_count > 1\n",
    "ORDER BY date_of_birth, name\n",
    "LIMIT 10;"
   ]
  },
  {
   "cell_type": "code",
   "execution_count": 17,
   "metadata": {},
   "outputs": [
    {
     "name": "stdout",
     "output_type": "stream",
     "text": [
      " * postgresql+psycopg2://localhost:5432/intro_to_sql_for_analytics\n",
      "10 rows affected.\n"
     ]
    },
    {
     "data": {
      "text/html": [
       "<table>\n",
       "    <thead>\n",
       "        <tr>\n",
       "            <th>date_of_birth</th>\n",
       "            <th>athlete_count</th>\n",
       "        </tr>\n",
       "    </thead>\n",
       "    <tbody>\n",
       "        <tr>\n",
       "            <td>1964-07-05</td>\n",
       "            <td>2</td>\n",
       "        </tr>\n",
       "        <tr>\n",
       "            <td>1966-10-21</td>\n",
       "            <td>4</td>\n",
       "        </tr>\n",
       "        <tr>\n",
       "            <td>1967-10-12</td>\n",
       "            <td>2</td>\n",
       "        </tr>\n",
       "        <tr>\n",
       "            <td>1968-01-23</td>\n",
       "            <td>4</td>\n",
       "        </tr>\n",
       "        <tr>\n",
       "            <td>1968-11-12</td>\n",
       "            <td>4</td>\n",
       "        </tr>\n",
       "        <tr>\n",
       "            <td>1970-03-24</td>\n",
       "            <td>2</td>\n",
       "        </tr>\n",
       "        <tr>\n",
       "            <td>1970-04-21</td>\n",
       "            <td>2</td>\n",
       "        </tr>\n",
       "        <tr>\n",
       "            <td>1970-12-26</td>\n",
       "            <td>4</td>\n",
       "        </tr>\n",
       "        <tr>\n",
       "            <td>1971-06-23</td>\n",
       "            <td>4</td>\n",
       "        </tr>\n",
       "        <tr>\n",
       "            <td>1972-06-08</td>\n",
       "            <td>2</td>\n",
       "        </tr>\n",
       "    </tbody>\n",
       "</table>"
      ],
      "text/plain": [
       "[(datetime.date(1964, 7, 5), 2),\n",
       " (datetime.date(1966, 10, 21), 4),\n",
       " (datetime.date(1967, 10, 12), 2),\n",
       " (datetime.date(1968, 1, 23), 4),\n",
       " (datetime.date(1968, 11, 12), 4),\n",
       " (datetime.date(1970, 3, 24), 2),\n",
       " (datetime.date(1970, 4, 21), 2),\n",
       " (datetime.date(1970, 12, 26), 4),\n",
       " (datetime.date(1971, 6, 23), 4),\n",
       " (datetime.date(1972, 6, 8), 2)]"
      ]
     },
     "execution_count": 17,
     "metadata": {},
     "output_type": "execute_result"
    }
   ],
   "source": [
    "%%sql\n",
    "SELECT alias_a.date_of_birth, COUNT(*) AS athlete_count\n",
    "FROM athletes alias_a INNER JOIN athletes alias_b ON alias_a.name = alias_b.name AND alias_a.date_of_birth = alias_b.date_of_birth\n",
    "GROUP BY alias_a.date_of_birth\n",
    "HAVING COUNT(*) > 1\n",
    "LIMIT 10;\n"
   ]
  },
  {
   "cell_type": "code",
   "execution_count": 18,
   "metadata": {},
   "outputs": [
    {
     "name": "stdout",
     "output_type": "stream",
     "text": [
      " * postgresql+psycopg2://localhost:5432/intro_to_sql_for_analytics\n",
      "10 rows affected.\n"
     ]
    },
    {
     "data": {
      "text/html": [
       "<table>\n",
       "    <thead>\n",
       "        <tr>\n",
       "            <th>athletes</th>\n",
       "            <th>date_of_birth</th>\n",
       "            <th>athelete_two</th>\n",
       "            <th>date_of_birth_1</th>\n",
       "        </tr>\n",
       "    </thead>\n",
       "    <tbody>\n",
       "        <tr>\n",
       "            <td>LEBRUN Tatyana</td>\n",
       "            <td>2004-12-09</td>\n",
       "            <td>HUANG Wenjuan</td>\n",
       "            <td>2004-12-09</td>\n",
       "        </tr>\n",
       "        <tr>\n",
       "            <td>HUANG Wenjuan</td>\n",
       "            <td>2004-12-09</td>\n",
       "            <td>LEBRUN Tatyana</td>\n",
       "            <td>2004-12-09</td>\n",
       "        </tr>\n",
       "        <tr>\n",
       "            <td>FOLGADO GARCIA Nagore</td>\n",
       "            <td>2004-03-23</td>\n",
       "            <td>CHALLIS Ellie</td>\n",
       "            <td>2004-03-23</td>\n",
       "        </tr>\n",
       "        <tr>\n",
       "            <td>CHALLIS Ellie</td>\n",
       "            <td>2004-03-23</td>\n",
       "            <td>FOLGADO GARCIA Nagore</td>\n",
       "            <td>2004-03-23</td>\n",
       "        </tr>\n",
       "        <tr>\n",
       "            <td>FELIX BARBOSA da SILVA Jardenia</td>\n",
       "            <td>2003-09-09</td>\n",
       "            <td>HONTAR Anna</td>\n",
       "            <td>2003-09-09</td>\n",
       "        </tr>\n",
       "        <tr>\n",
       "            <td>HONTAR Anna</td>\n",
       "            <td>2003-09-09</td>\n",
       "            <td>FELIX BARBOSA da SILVA Jardenia</td>\n",
       "            <td>2003-09-09</td>\n",
       "        </tr>\n",
       "        <tr>\n",
       "            <td>PEARSE Col</td>\n",
       "            <td>2003-07-10</td>\n",
       "            <td>CORSO Liza</td>\n",
       "            <td>2003-07-10</td>\n",
       "        </tr>\n",
       "        <tr>\n",
       "            <td>CORSO Liza</td>\n",
       "            <td>2003-07-10</td>\n",
       "            <td>PEARSE Col</td>\n",
       "            <td>2003-07-10</td>\n",
       "        </tr>\n",
       "        <tr>\n",
       "            <td>de LIMA Lara Aparecida</td>\n",
       "            <td>2003-04-25</td>\n",
       "            <td>TOPF Josia Tim Alexander</td>\n",
       "            <td>2003-04-25</td>\n",
       "        </tr>\n",
       "        <tr>\n",
       "            <td>TOPF Josia Tim Alexander</td>\n",
       "            <td>2003-04-25</td>\n",
       "            <td>de LIMA Lara Aparecida</td>\n",
       "            <td>2003-04-25</td>\n",
       "        </tr>\n",
       "    </tbody>\n",
       "</table>"
      ],
      "text/plain": [
       "[('LEBRUN Tatyana', datetime.date(2004, 12, 9), 'HUANG Wenjuan', datetime.date(2004, 12, 9)),\n",
       " ('HUANG Wenjuan', datetime.date(2004, 12, 9), 'LEBRUN Tatyana', datetime.date(2004, 12, 9)),\n",
       " ('FOLGADO GARCIA Nagore', datetime.date(2004, 3, 23), 'CHALLIS Ellie', datetime.date(2004, 3, 23)),\n",
       " ('CHALLIS Ellie', datetime.date(2004, 3, 23), 'FOLGADO GARCIA Nagore', datetime.date(2004, 3, 23)),\n",
       " ('FELIX BARBOSA da SILVA Jardenia', datetime.date(2003, 9, 9), 'HONTAR Anna', datetime.date(2003, 9, 9)),\n",
       " ('HONTAR Anna', datetime.date(2003, 9, 9), 'FELIX BARBOSA da SILVA Jardenia', datetime.date(2003, 9, 9)),\n",
       " ('PEARSE Col', datetime.date(2003, 7, 10), 'CORSO Liza', datetime.date(2003, 7, 10)),\n",
       " ('CORSO Liza', datetime.date(2003, 7, 10), 'PEARSE Col', datetime.date(2003, 7, 10)),\n",
       " ('de LIMA Lara Aparecida', datetime.date(2003, 4, 25), 'TOPF Josia Tim Alexander', datetime.date(2003, 4, 25)),\n",
       " ('TOPF Josia Tim Alexander', datetime.date(2003, 4, 25), 'de LIMA Lara Aparecida', datetime.date(2003, 4, 25))]"
      ]
     },
     "execution_count": 18,
     "metadata": {},
     "output_type": "execute_result"
    }
   ],
   "source": [
    "%%sql \n",
    "SELECT alias_a.name athletes, alias_a.date_of_birth, alias_b.name athelete_two, alias_b.date_of_birth\n",
    "FROM athletes alias_a INNER JOIN athletes alias_b\n",
    "ON alias_a.date_of_birth =  alias_b.date_of_birth\n",
    "WHERE alias_a.name != alias_b.name\n",
    "ORDER BY alias_a.date_of_birth DESC\n",
    "LIMIT 10"
   ]
  },
  {
   "cell_type": "code",
   "execution_count": 19,
   "metadata": {},
   "outputs": [
    {
     "name": "stdout",
     "output_type": "stream",
     "text": [
      " * postgresql+psycopg2://localhost:5432/intro_to_sql_for_analytics\n",
      "10 rows affected.\n"
     ]
    },
    {
     "data": {
      "text/html": [
       "<table>\n",
       "    <thead>\n",
       "        <tr>\n",
       "            <th>date_of_birth</th>\n",
       "            <th>athlete_count</th>\n",
       "            <th>athlete_names</th>\n",
       "        </tr>\n",
       "    </thead>\n",
       "    <tbody>\n",
       "        <tr>\n",
       "            <td>1964-07-05</td>\n",
       "            <td>2</td>\n",
       "            <td>SIM Jae Yong, CHEBANIKA Raisa</td>\n",
       "        </tr>\n",
       "        <tr>\n",
       "            <td>1966-10-21</td>\n",
       "            <td>4</td>\n",
       "            <td>GARRIDO MARQUEZ Victor Hugo, GARRIDO MARQUEZ Victor Hugo, GARRIDO MARQUEZ Victor Hugo, GARRIDO MARQUEZ Victor Hugo</td>\n",
       "        </tr>\n",
       "        <tr>\n",
       "            <td>1967-10-12</td>\n",
       "            <td>2</td>\n",
       "            <td>PILLE-STEPPAT Sylvia, SCHNARNDORF Susana</td>\n",
       "        </tr>\n",
       "        <tr>\n",
       "            <td>1968-01-23</td>\n",
       "            <td>4</td>\n",
       "            <td>TEUBER Michael, TEUBER Michael, TEUBER Michael, TEUBER Michael</td>\n",
       "        </tr>\n",
       "        <tr>\n",
       "            <td>1968-11-12</td>\n",
       "            <td>4</td>\n",
       "            <td>BERENYI Joseph, BERENYI Joseph, BERENYI Joseph, BERENYI Joseph</td>\n",
       "        </tr>\n",
       "        <tr>\n",
       "            <td>1970-03-24</td>\n",
       "            <td>2</td>\n",
       "            <td>FENDT Bernhard, POMME Mauricio</td>\n",
       "        </tr>\n",
       "        <tr>\n",
       "            <td>1970-04-21</td>\n",
       "            <td>2</td>\n",
       "            <td>CHIPPINGTON Jeanette, BACHMAIER Ernst</td>\n",
       "        </tr>\n",
       "        <tr>\n",
       "            <td>1970-12-26</td>\n",
       "            <td>4</td>\n",
       "            <td>SUGIURA Keiko, SUGIURA Keiko, SUGIURA Keiko, SUGIURA Keiko</td>\n",
       "        </tr>\n",
       "        <tr>\n",
       "            <td>1971-06-23</td>\n",
       "            <td>4</td>\n",
       "            <td>KEITH Aaron, KEITH Aaron, KEITH Aaron, KEITH Aaron</td>\n",
       "        </tr>\n",
       "        <tr>\n",
       "            <td>1972-06-08</td>\n",
       "            <td>2</td>\n",
       "            <td>RODRIGUEZ Matthew, ANDALOUSSI Ahmed</td>\n",
       "        </tr>\n",
       "    </tbody>\n",
       "</table>"
      ],
      "text/plain": [
       "[(datetime.date(1964, 7, 5), 2, 'SIM Jae Yong, CHEBANIKA Raisa'),\n",
       " (datetime.date(1966, 10, 21), 4, 'GARRIDO MARQUEZ Victor Hugo, GARRIDO MARQUEZ Victor Hugo, GARRIDO MARQUEZ Victor Hugo, GARRIDO MARQUEZ Victor Hugo'),\n",
       " (datetime.date(1967, 10, 12), 2, 'PILLE-STEPPAT Sylvia, SCHNARNDORF Susana'),\n",
       " (datetime.date(1968, 1, 23), 4, 'TEUBER Michael, TEUBER Michael, TEUBER Michael, TEUBER Michael'),\n",
       " (datetime.date(1968, 11, 12), 4, 'BERENYI Joseph, BERENYI Joseph, BERENYI Joseph, BERENYI Joseph'),\n",
       " (datetime.date(1970, 3, 24), 2, 'FENDT Bernhard, POMME Mauricio'),\n",
       " (datetime.date(1970, 4, 21), 2, 'CHIPPINGTON Jeanette, BACHMAIER Ernst'),\n",
       " (datetime.date(1970, 12, 26), 4, 'SUGIURA Keiko, SUGIURA Keiko, SUGIURA Keiko, SUGIURA Keiko'),\n",
       " (datetime.date(1971, 6, 23), 4, 'KEITH Aaron, KEITH Aaron, KEITH Aaron, KEITH Aaron'),\n",
       " (datetime.date(1972, 6, 8), 2, 'RODRIGUEZ Matthew, ANDALOUSSI Ahmed')]"
      ]
     },
     "execution_count": 19,
     "metadata": {},
     "output_type": "execute_result"
    }
   ],
   "source": [
    "%%sql\n",
    "SELECT alias_a.date_of_birth, COUNT(*) AS athlete_count, STRING_AGG(alias_a.name, ', ') AS athlete_names\n",
    "FROM athletes alias_a INNER JOIN athletes alias_b ON alias_a.name = alias_b.name AND alias_a.date_of_birth = alias_b.date_of_birth\n",
    "GROUP BY alias_a.date_of_birth\n",
    "HAVING COUNT(*) > 1\n",
    "LIMIT 10;"
   ]
  },
  {
   "cell_type": "code",
   "execution_count": 20,
   "metadata": {},
   "outputs": [
    {
     "name": "stdout",
     "output_type": "stream",
     "text": [
      " * postgresql+psycopg2://localhost:5432/intro_to_sql_for_analytics\n",
      "1461 rows affected.\n",
      "9.33 ms ± 0 ns per loop (mean ± std. dev. of 1 run, 1 loop each)\n"
     ]
    }
   ],
   "source": [
    "%%timeit -n 1 -r 1\n",
    "result = %sql SELECT date_of_birth, athlete_count, name FROM (SELECT date_of_birth, COUNT(*) OVER (PARTITION BY date_of_birth) AS athlete_count, name FROM athletes GROUP BY date_of_birth, name) AS subquery WHERE athlete_count > 1 ORDER BY date_of_birth, name"
   ]
  },
  {
   "cell_type": "code",
   "execution_count": 21,
   "metadata": {},
   "outputs": [
    {
     "name": "stdout",
     "output_type": "stream",
     "text": [
      " * postgresql+psycopg2://localhost:5432/intro_to_sql_for_analytics\n",
      "747 rows affected.\n",
      "7.48 ms ± 0 ns per loop (mean ± std. dev. of 1 run, 1 loop each)\n"
     ]
    }
   ],
   "source": [
    "%%timeit -n 1 -r 1\n",
    "result = %sql SELECT alias_a.date_of_birth, COUNT(*) AS athlete_count FROM athletes alias_a INNER JOIN athletes alias_b ON alias_a.name = alias_b.name AND alias_a.date_of_birth = alias_b.date_of_birth GROUP BY alias_a.date_of_birth HAVING COUNT(*) > 1"
   ]
  },
  {
   "cell_type": "code",
   "execution_count": 22,
   "metadata": {},
   "outputs": [
    {
     "name": "stdout",
     "output_type": "stream",
     "text": [
      " * postgresql+psycopg2://localhost:5432/intro_to_sql_for_analytics\n",
      "1888 rows affected.\n",
      "7.9 ms ± 0 ns per loop (mean ± std. dev. of 1 run, 1 loop each)\n"
     ]
    }
   ],
   "source": [
    "%%timeit -n 1 -r 1\n",
    "result = %sql  SELECT alias_a.name athletes, alias_a.date_of_birth, alias_b.name athelete_two, alias_b.date_of_birth FROM athletes alias_a INNER JOIN athletes alias_b ON alias_a.date_of_birth =  alias_b.date_of_birth WHERE alias_a.name != alias_b.name ORDER BY alias_a.date_of_birth DESC"
   ]
  },
  {
   "cell_type": "code",
   "execution_count": 23,
   "metadata": {},
   "outputs": [
    {
     "name": "stdout",
     "output_type": "stream",
     "text": [
      " * postgresql+psycopg2://localhost:5432/intro_to_sql_for_analytics\n",
      "747 rows affected.\n",
      "10.5 ms ± 0 ns per loop (mean ± std. dev. of 1 run, 1 loop each)\n"
     ]
    }
   ],
   "source": [
    "%%timeit -n 1 -r 1\n",
    "result = %sql SELECT alias_a.date_of_birth, COUNT(*) AS athlete_count, STRING_AGG(alias_a.name, ', ') AS athlete_names FROM athletes alias_a INNER JOIN athletes alias_b ON alias_a.name = alias_b.name AND alias_a.date_of_birth = alias_b.date_of_birth GROUP BY alias_a.date_of_birth HAVING COUNT(*) > 1\n"
   ]
  }
 ],
 "metadata": {
  "kernelspec": {
   "display_name": ".venv",
   "language": "python",
   "name": "python3"
  },
  "language_info": {
   "codemirror_mode": {
    "name": "ipython",
    "version": 3
   },
   "file_extension": ".py",
   "mimetype": "text/x-python",
   "name": "python",
   "nbconvert_exporter": "python",
   "pygments_lexer": "ipython3",
   "version": "3.11.6"
  }
 },
 "nbformat": 4,
 "nbformat_minor": 2
}
