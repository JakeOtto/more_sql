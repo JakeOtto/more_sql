{
 "cells": [
  {
   "cell_type": "code",
   "execution_count": 1,
   "metadata": {},
   "outputs": [],
   "source": [
    "import timeit\n",
    "from sqlalchemy import create_engine\n",
    "import pandas as pd\n",
    "from dotenv import load_dotenv\n",
    "import ipywidgets as widgets\n",
    "import pandas as pd\n",
    "import seaborn as sns\n",
    "import matplotlib.pyplot as plt\n",
    "import psycopg\n",
    "from IPython.display import display\n",
    "import os as os"
   ]
  },
  {
   "cell_type": "code",
   "execution_count": 2,
   "metadata": {},
   "outputs": [
    {
     "data": {
      "text/plain": [
       "True"
      ]
     },
     "execution_count": 2,
     "metadata": {},
     "output_type": "execute_result"
    }
   ],
   "source": [
    "load_dotenv()"
   ]
  },
  {
   "cell_type": "code",
   "execution_count": 3,
   "metadata": {},
   "outputs": [
    {
     "name": "stdout",
     "output_type": "stream",
     "text": [
      "analyst\n"
     ]
    }
   ],
   "source": [
    "from os import environ as env\n",
    "\n",
    "if 'DB_USER' in env:\n",
    "    print(env['DB_USER'])\n"
   ]
  },
  {
   "cell_type": "code",
   "execution_count": 4,
   "metadata": {},
   "outputs": [],
   "source": [
    "# Load environment variables\n",
    "load_dotenv()\n",
    "db_user = os.getenv('DB_USER')\n",
    "db_password = os.getenv('DB_PASSWORD')\n",
    "db_host = os.getenv('DB_HOST')\n",
    "db_name = os.getenv('DB_NAME')"
   ]
  },
  {
   "cell_type": "code",
   "execution_count": 5,
   "metadata": {},
   "outputs": [
    {
     "ename": "OperationalError",
     "evalue": "connection failed: FATAL:  role \"analyst\" does not exist",
     "output_type": "error",
     "traceback": [
      "\u001b[0;31m---------------------------------------------------------------------------\u001b[0m",
      "\u001b[0;31mOperationalError\u001b[0m                          Traceback (most recent call last)",
      "\u001b[1;32m/Users/jakeotto/Documents/sql-for-data-processing-and-analysis/dashboard.ipynb Cell 5\u001b[0m line \u001b[0;36m2\n\u001b[1;32m      <a href='vscode-notebook-cell:/Users/jakeotto/Documents/sql-for-data-processing-and-analysis/dashboard.ipynb#W5sZmlsZQ%3D%3D?line=0'>1</a>\u001b[0m \u001b[39m# Connect to the Stack Overflow database\u001b[39;00m\n\u001b[0;32m----> <a href='vscode-notebook-cell:/Users/jakeotto/Documents/sql-for-data-processing-and-analysis/dashboard.ipynb#W5sZmlsZQ%3D%3D?line=1'>2</a>\u001b[0m conn \u001b[39m=\u001b[39m psycopg\u001b[39m.\u001b[39;49mconnect(\n\u001b[1;32m      <a href='vscode-notebook-cell:/Users/jakeotto/Documents/sql-for-data-processing-and-analysis/dashboard.ipynb#W5sZmlsZQ%3D%3D?line=2'>3</a>\u001b[0m     host\u001b[39m=\u001b[39;49mdb_host,\n\u001b[1;32m      <a href='vscode-notebook-cell:/Users/jakeotto/Documents/sql-for-data-processing-and-analysis/dashboard.ipynb#W5sZmlsZQ%3D%3D?line=3'>4</a>\u001b[0m     database\u001b[39m=\u001b[39;49mdb_name,\n\u001b[1;32m      <a href='vscode-notebook-cell:/Users/jakeotto/Documents/sql-for-data-processing-and-analysis/dashboard.ipynb#W5sZmlsZQ%3D%3D?line=4'>5</a>\u001b[0m     user\u001b[39m=\u001b[39;49mdb_user,\n\u001b[1;32m      <a href='vscode-notebook-cell:/Users/jakeotto/Documents/sql-for-data-processing-and-analysis/dashboard.ipynb#W5sZmlsZQ%3D%3D?line=5'>6</a>\u001b[0m     password\u001b[39m=\u001b[39;49mdb_password\n\u001b[1;32m      <a href='vscode-notebook-cell:/Users/jakeotto/Documents/sql-for-data-processing-and-analysis/dashboard.ipynb#W5sZmlsZQ%3D%3D?line=6'>7</a>\u001b[0m )\n",
      "File \u001b[0;32m~/Documents/sql-for-data-processing-and-analysis/.venv/lib/python3.11/site-packages/psycopg/connection.py:738\u001b[0m, in \u001b[0;36mConnection.connect\u001b[0;34m(cls, conninfo, autocommit, prepare_threshold, row_factory, cursor_factory, context, **kwargs)\u001b[0m\n\u001b[1;32m    733\u001b[0m     rv \u001b[39m=\u001b[39m \u001b[39mcls\u001b[39m\u001b[39m.\u001b[39m_wait_conn(\n\u001b[1;32m    734\u001b[0m         \u001b[39mcls\u001b[39m\u001b[39m.\u001b[39m_connect_gen(conninfo, autocommit\u001b[39m=\u001b[39mautocommit),\n\u001b[1;32m    735\u001b[0m         timeout\u001b[39m=\u001b[39mparams[\u001b[39m\"\u001b[39m\u001b[39mconnect_timeout\u001b[39m\u001b[39m\"\u001b[39m],\n\u001b[1;32m    736\u001b[0m     )\n\u001b[1;32m    737\u001b[0m \u001b[39mexcept\u001b[39;00m e\u001b[39m.\u001b[39m_NO_TRACEBACK \u001b[39mas\u001b[39;00m ex:\n\u001b[0;32m--> 738\u001b[0m     \u001b[39mraise\u001b[39;00m ex\u001b[39m.\u001b[39mwith_traceback(\u001b[39mNone\u001b[39;00m)\n\u001b[1;32m    740\u001b[0m \u001b[39mif\u001b[39;00m row_factory:\n\u001b[1;32m    741\u001b[0m     rv\u001b[39m.\u001b[39mrow_factory \u001b[39m=\u001b[39m row_factory\n",
      "\u001b[0;31mOperationalError\u001b[0m: connection failed: FATAL:  role \"analyst\" does not exist"
     ]
    }
   ],
   "source": [
    "# Connect to the Stack Overflow database\n",
    "conn = psycopg.connect(\n",
    "    host=db_host,\n",
    "    database=db_name,\n",
    "    user=db_user,\n",
    "    password=db_password\n",
    ")"
   ]
  },
  {
   "cell_type": "code",
   "execution_count": null,
   "metadata": {},
   "outputs": [],
   "source": [
    "# Define HEART metrics for Stack Overflow\n",
    "heart_metrics = {\n",
    "    'Happiness': 'Measure of user satisfaction and happiness with the Questions & Answers product.',\n",
    "    'Engagement': 'Measure of user interaction and activity on the platform.',\n",
    "    'Adoption': 'Measure of user acquisition and growth of Stack Overflow user base.',\n",
    "    'Retention': 'Measure of user retention and continued usage of the platform over time.',\n",
    "    'Task Success': 'Measure of user ability to accomplish their goals and tasks effectively on Stack Overflow.'\n",
    "}"
   ]
  },
  {
   "cell_type": "code",
   "execution_count": null,
   "metadata": {},
   "outputs": [],
   "source": [
    "from sqlalchemy import create_engine\n",
    "\n",
    "\n",
    "# With the env variables loaded we can insert them into the engine connection string.\n",
    "engine = create_engine(f\"postgresql+psycopg2://{env['DB_USER']}:{env['DB_PASSWORD']}@{env['DB_HOST']}/{env['DB_NAME']}\")\n",
    "connection = engine.connect()"
   ]
  },
  {
   "cell_type": "code",
   "execution_count": null,
   "metadata": {},
   "outputs": [],
   "source": [
    "query = \"SELECT * FROM users LIMIT 5\"\n",
    "df = pd.read_sql(query, connection)"
   ]
  },
  {
   "cell_type": "code",
   "execution_count": null,
   "metadata": {},
   "outputs": [],
   "source": []
  }
 ],
 "metadata": {
  "kernelspec": {
   "display_name": ".venv",
   "language": "python",
   "name": "python3"
  },
  "language_info": {
   "codemirror_mode": {
    "name": "ipython",
    "version": 3
   },
   "file_extension": ".py",
   "mimetype": "text/x-python",
   "name": "python",
   "nbconvert_exporter": "python",
   "pygments_lexer": "ipython3",
   "version": "3.11.6"
  }
 },
 "nbformat": 4,
 "nbformat_minor": 2
}
